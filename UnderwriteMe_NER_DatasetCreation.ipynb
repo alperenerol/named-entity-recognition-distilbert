{
  "nbformat": 4,
  "nbformat_minor": 0,
  "metadata": {
    "colab": {
      "provenance": [],
      "gpuType": "T4"
    },
    "kernelspec": {
      "name": "python3",
      "display_name": "Python 3"
    },
    "language_info": {
      "name": "python"
    },
    "accelerator": "GPU",
    "widgets": {
      "application/vnd.jupyter.widget-state+json": {
        "a35437028a0742e19b5d5fce1c6dfa20": {
          "model_module": "@jupyter-widgets/controls",
          "model_name": "HBoxModel",
          "model_module_version": "1.5.0",
          "state": {
            "_dom_classes": [],
            "_model_module": "@jupyter-widgets/controls",
            "_model_module_version": "1.5.0",
            "_model_name": "HBoxModel",
            "_view_count": null,
            "_view_module": "@jupyter-widgets/controls",
            "_view_module_version": "1.5.0",
            "_view_name": "HBoxView",
            "box_style": "",
            "children": [
              "IPY_MODEL_ba23b71797a642f0aa2d24d28baf9ad5",
              "IPY_MODEL_32bbf1b8d0174db180c2b4da68404ad3",
              "IPY_MODEL_ab6a124cf93e49b482597cf50a8deb07"
            ],
            "layout": "IPY_MODEL_494ef7d30842457089f01c21944e5849"
          }
        },
        "ba23b71797a642f0aa2d24d28baf9ad5": {
          "model_module": "@jupyter-widgets/controls",
          "model_name": "HTMLModel",
          "model_module_version": "1.5.0",
          "state": {
            "_dom_classes": [],
            "_model_module": "@jupyter-widgets/controls",
            "_model_module_version": "1.5.0",
            "_model_name": "HTMLModel",
            "_view_count": null,
            "_view_module": "@jupyter-widgets/controls",
            "_view_module_version": "1.5.0",
            "_view_name": "HTMLView",
            "description": "",
            "description_tooltip": null,
            "layout": "IPY_MODEL_8177a8010bdd439da36899be776db814",
            "placeholder": "​",
            "style": "IPY_MODEL_ee12647acdf24de096199bca5f95bfe6",
            "value": "Saving the dataset (1/1 shards): 100%"
          }
        },
        "32bbf1b8d0174db180c2b4da68404ad3": {
          "model_module": "@jupyter-widgets/controls",
          "model_name": "FloatProgressModel",
          "model_module_version": "1.5.0",
          "state": {
            "_dom_classes": [],
            "_model_module": "@jupyter-widgets/controls",
            "_model_module_version": "1.5.0",
            "_model_name": "FloatProgressModel",
            "_view_count": null,
            "_view_module": "@jupyter-widgets/controls",
            "_view_module_version": "1.5.0",
            "_view_name": "ProgressView",
            "bar_style": "success",
            "description": "",
            "description_tooltip": null,
            "layout": "IPY_MODEL_25ad752bf2e5411fbfc93bfa1a53220a",
            "max": 6223,
            "min": 0,
            "orientation": "horizontal",
            "style": "IPY_MODEL_804e71339afe4289bc05fb95b37ed949",
            "value": 6223
          }
        },
        "ab6a124cf93e49b482597cf50a8deb07": {
          "model_module": "@jupyter-widgets/controls",
          "model_name": "HTMLModel",
          "model_module_version": "1.5.0",
          "state": {
            "_dom_classes": [],
            "_model_module": "@jupyter-widgets/controls",
            "_model_module_version": "1.5.0",
            "_model_name": "HTMLModel",
            "_view_count": null,
            "_view_module": "@jupyter-widgets/controls",
            "_view_module_version": "1.5.0",
            "_view_name": "HTMLView",
            "description": "",
            "description_tooltip": null,
            "layout": "IPY_MODEL_1068c78e1e364354973eae044cf1113f",
            "placeholder": "​",
            "style": "IPY_MODEL_274aea0f520744eeae6406f7e91442a1",
            "value": " 6223/6223 [00:00&lt;00:00, 106822.65 examples/s]"
          }
        },
        "494ef7d30842457089f01c21944e5849": {
          "model_module": "@jupyter-widgets/base",
          "model_name": "LayoutModel",
          "model_module_version": "1.2.0",
          "state": {
            "_model_module": "@jupyter-widgets/base",
            "_model_module_version": "1.2.0",
            "_model_name": "LayoutModel",
            "_view_count": null,
            "_view_module": "@jupyter-widgets/base",
            "_view_module_version": "1.2.0",
            "_view_name": "LayoutView",
            "align_content": null,
            "align_items": null,
            "align_self": null,
            "border": null,
            "bottom": null,
            "display": null,
            "flex": null,
            "flex_flow": null,
            "grid_area": null,
            "grid_auto_columns": null,
            "grid_auto_flow": null,
            "grid_auto_rows": null,
            "grid_column": null,
            "grid_gap": null,
            "grid_row": null,
            "grid_template_areas": null,
            "grid_template_columns": null,
            "grid_template_rows": null,
            "height": null,
            "justify_content": null,
            "justify_items": null,
            "left": null,
            "margin": null,
            "max_height": null,
            "max_width": null,
            "min_height": null,
            "min_width": null,
            "object_fit": null,
            "object_position": null,
            "order": null,
            "overflow": null,
            "overflow_x": null,
            "overflow_y": null,
            "padding": null,
            "right": null,
            "top": null,
            "visibility": null,
            "width": null
          }
        },
        "8177a8010bdd439da36899be776db814": {
          "model_module": "@jupyter-widgets/base",
          "model_name": "LayoutModel",
          "model_module_version": "1.2.0",
          "state": {
            "_model_module": "@jupyter-widgets/base",
            "_model_module_version": "1.2.0",
            "_model_name": "LayoutModel",
            "_view_count": null,
            "_view_module": "@jupyter-widgets/base",
            "_view_module_version": "1.2.0",
            "_view_name": "LayoutView",
            "align_content": null,
            "align_items": null,
            "align_self": null,
            "border": null,
            "bottom": null,
            "display": null,
            "flex": null,
            "flex_flow": null,
            "grid_area": null,
            "grid_auto_columns": null,
            "grid_auto_flow": null,
            "grid_auto_rows": null,
            "grid_column": null,
            "grid_gap": null,
            "grid_row": null,
            "grid_template_areas": null,
            "grid_template_columns": null,
            "grid_template_rows": null,
            "height": null,
            "justify_content": null,
            "justify_items": null,
            "left": null,
            "margin": null,
            "max_height": null,
            "max_width": null,
            "min_height": null,
            "min_width": null,
            "object_fit": null,
            "object_position": null,
            "order": null,
            "overflow": null,
            "overflow_x": null,
            "overflow_y": null,
            "padding": null,
            "right": null,
            "top": null,
            "visibility": null,
            "width": null
          }
        },
        "ee12647acdf24de096199bca5f95bfe6": {
          "model_module": "@jupyter-widgets/controls",
          "model_name": "DescriptionStyleModel",
          "model_module_version": "1.5.0",
          "state": {
            "_model_module": "@jupyter-widgets/controls",
            "_model_module_version": "1.5.0",
            "_model_name": "DescriptionStyleModel",
            "_view_count": null,
            "_view_module": "@jupyter-widgets/base",
            "_view_module_version": "1.2.0",
            "_view_name": "StyleView",
            "description_width": ""
          }
        },
        "25ad752bf2e5411fbfc93bfa1a53220a": {
          "model_module": "@jupyter-widgets/base",
          "model_name": "LayoutModel",
          "model_module_version": "1.2.0",
          "state": {
            "_model_module": "@jupyter-widgets/base",
            "_model_module_version": "1.2.0",
            "_model_name": "LayoutModel",
            "_view_count": null,
            "_view_module": "@jupyter-widgets/base",
            "_view_module_version": "1.2.0",
            "_view_name": "LayoutView",
            "align_content": null,
            "align_items": null,
            "align_self": null,
            "border": null,
            "bottom": null,
            "display": null,
            "flex": null,
            "flex_flow": null,
            "grid_area": null,
            "grid_auto_columns": null,
            "grid_auto_flow": null,
            "grid_auto_rows": null,
            "grid_column": null,
            "grid_gap": null,
            "grid_row": null,
            "grid_template_areas": null,
            "grid_template_columns": null,
            "grid_template_rows": null,
            "height": null,
            "justify_content": null,
            "justify_items": null,
            "left": null,
            "margin": null,
            "max_height": null,
            "max_width": null,
            "min_height": null,
            "min_width": null,
            "object_fit": null,
            "object_position": null,
            "order": null,
            "overflow": null,
            "overflow_x": null,
            "overflow_y": null,
            "padding": null,
            "right": null,
            "top": null,
            "visibility": null,
            "width": null
          }
        },
        "804e71339afe4289bc05fb95b37ed949": {
          "model_module": "@jupyter-widgets/controls",
          "model_name": "ProgressStyleModel",
          "model_module_version": "1.5.0",
          "state": {
            "_model_module": "@jupyter-widgets/controls",
            "_model_module_version": "1.5.0",
            "_model_name": "ProgressStyleModel",
            "_view_count": null,
            "_view_module": "@jupyter-widgets/base",
            "_view_module_version": "1.2.0",
            "_view_name": "StyleView",
            "bar_color": null,
            "description_width": ""
          }
        },
        "1068c78e1e364354973eae044cf1113f": {
          "model_module": "@jupyter-widgets/base",
          "model_name": "LayoutModel",
          "model_module_version": "1.2.0",
          "state": {
            "_model_module": "@jupyter-widgets/base",
            "_model_module_version": "1.2.0",
            "_model_name": "LayoutModel",
            "_view_count": null,
            "_view_module": "@jupyter-widgets/base",
            "_view_module_version": "1.2.0",
            "_view_name": "LayoutView",
            "align_content": null,
            "align_items": null,
            "align_self": null,
            "border": null,
            "bottom": null,
            "display": null,
            "flex": null,
            "flex_flow": null,
            "grid_area": null,
            "grid_auto_columns": null,
            "grid_auto_flow": null,
            "grid_auto_rows": null,
            "grid_column": null,
            "grid_gap": null,
            "grid_row": null,
            "grid_template_areas": null,
            "grid_template_columns": null,
            "grid_template_rows": null,
            "height": null,
            "justify_content": null,
            "justify_items": null,
            "left": null,
            "margin": null,
            "max_height": null,
            "max_width": null,
            "min_height": null,
            "min_width": null,
            "object_fit": null,
            "object_position": null,
            "order": null,
            "overflow": null,
            "overflow_x": null,
            "overflow_y": null,
            "padding": null,
            "right": null,
            "top": null,
            "visibility": null,
            "width": null
          }
        },
        "274aea0f520744eeae6406f7e91442a1": {
          "model_module": "@jupyter-widgets/controls",
          "model_name": "DescriptionStyleModel",
          "model_module_version": "1.5.0",
          "state": {
            "_model_module": "@jupyter-widgets/controls",
            "_model_module_version": "1.5.0",
            "_model_name": "DescriptionStyleModel",
            "_view_count": null,
            "_view_module": "@jupyter-widgets/base",
            "_view_module_version": "1.2.0",
            "_view_name": "StyleView",
            "description_width": ""
          }
        },
        "3c32936d5f5c4a9c9c367b99d342c0ed": {
          "model_module": "@jupyter-widgets/controls",
          "model_name": "HBoxModel",
          "model_module_version": "1.5.0",
          "state": {
            "_dom_classes": [],
            "_model_module": "@jupyter-widgets/controls",
            "_model_module_version": "1.5.0",
            "_model_name": "HBoxModel",
            "_view_count": null,
            "_view_module": "@jupyter-widgets/controls",
            "_view_module_version": "1.5.0",
            "_view_name": "HBoxView",
            "box_style": "",
            "children": [
              "IPY_MODEL_9242e30663514bad9001605a7a17717d",
              "IPY_MODEL_0754c016f61e436699b6ab5ed325f0d1",
              "IPY_MODEL_2d3d47ffc000494ca5feec5cd2a9aa51"
            ],
            "layout": "IPY_MODEL_fd67c1a2be3f4c86b9ea84f2cf3bb915"
          }
        },
        "9242e30663514bad9001605a7a17717d": {
          "model_module": "@jupyter-widgets/controls",
          "model_name": "HTMLModel",
          "model_module_version": "1.5.0",
          "state": {
            "_dom_classes": [],
            "_model_module": "@jupyter-widgets/controls",
            "_model_module_version": "1.5.0",
            "_model_name": "HTMLModel",
            "_view_count": null,
            "_view_module": "@jupyter-widgets/controls",
            "_view_module_version": "1.5.0",
            "_view_name": "HTMLView",
            "description": "",
            "description_tooltip": null,
            "layout": "IPY_MODEL_02475d36f31049389d58218bc19aa2d7",
            "placeholder": "​",
            "style": "IPY_MODEL_f9c3af5f1add45bda8aeae74a3d1c2a1",
            "value": "Map: 100%"
          }
        },
        "0754c016f61e436699b6ab5ed325f0d1": {
          "model_module": "@jupyter-widgets/controls",
          "model_name": "FloatProgressModel",
          "model_module_version": "1.5.0",
          "state": {
            "_dom_classes": [],
            "_model_module": "@jupyter-widgets/controls",
            "_model_module_version": "1.5.0",
            "_model_name": "FloatProgressModel",
            "_view_count": null,
            "_view_module": "@jupyter-widgets/controls",
            "_view_module_version": "1.5.0",
            "_view_name": "ProgressView",
            "bar_style": "success",
            "description": "",
            "description_tooltip": null,
            "layout": "IPY_MODEL_cd2cf1ab7d98469e94b93c22dda9e457",
            "max": 6223,
            "min": 0,
            "orientation": "horizontal",
            "style": "IPY_MODEL_72faa8a7568d459db30151d7488c6227",
            "value": 6223
          }
        },
        "2d3d47ffc000494ca5feec5cd2a9aa51": {
          "model_module": "@jupyter-widgets/controls",
          "model_name": "HTMLModel",
          "model_module_version": "1.5.0",
          "state": {
            "_dom_classes": [],
            "_model_module": "@jupyter-widgets/controls",
            "_model_module_version": "1.5.0",
            "_model_name": "HTMLModel",
            "_view_count": null,
            "_view_module": "@jupyter-widgets/controls",
            "_view_module_version": "1.5.0",
            "_view_name": "HTMLView",
            "description": "",
            "description_tooltip": null,
            "layout": "IPY_MODEL_770f9af8ad464b1e914081e6b5383946",
            "placeholder": "​",
            "style": "IPY_MODEL_97c6f40d9f874118be5d552afbaaab1e",
            "value": " 6223/6223 [00:00&lt;00:00, 19488.91 examples/s]"
          }
        },
        "fd67c1a2be3f4c86b9ea84f2cf3bb915": {
          "model_module": "@jupyter-widgets/base",
          "model_name": "LayoutModel",
          "model_module_version": "1.2.0",
          "state": {
            "_model_module": "@jupyter-widgets/base",
            "_model_module_version": "1.2.0",
            "_model_name": "LayoutModel",
            "_view_count": null,
            "_view_module": "@jupyter-widgets/base",
            "_view_module_version": "1.2.0",
            "_view_name": "LayoutView",
            "align_content": null,
            "align_items": null,
            "align_self": null,
            "border": null,
            "bottom": null,
            "display": null,
            "flex": null,
            "flex_flow": null,
            "grid_area": null,
            "grid_auto_columns": null,
            "grid_auto_flow": null,
            "grid_auto_rows": null,
            "grid_column": null,
            "grid_gap": null,
            "grid_row": null,
            "grid_template_areas": null,
            "grid_template_columns": null,
            "grid_template_rows": null,
            "height": null,
            "justify_content": null,
            "justify_items": null,
            "left": null,
            "margin": null,
            "max_height": null,
            "max_width": null,
            "min_height": null,
            "min_width": null,
            "object_fit": null,
            "object_position": null,
            "order": null,
            "overflow": null,
            "overflow_x": null,
            "overflow_y": null,
            "padding": null,
            "right": null,
            "top": null,
            "visibility": null,
            "width": null
          }
        },
        "02475d36f31049389d58218bc19aa2d7": {
          "model_module": "@jupyter-widgets/base",
          "model_name": "LayoutModel",
          "model_module_version": "1.2.0",
          "state": {
            "_model_module": "@jupyter-widgets/base",
            "_model_module_version": "1.2.0",
            "_model_name": "LayoutModel",
            "_view_count": null,
            "_view_module": "@jupyter-widgets/base",
            "_view_module_version": "1.2.0",
            "_view_name": "LayoutView",
            "align_content": null,
            "align_items": null,
            "align_self": null,
            "border": null,
            "bottom": null,
            "display": null,
            "flex": null,
            "flex_flow": null,
            "grid_area": null,
            "grid_auto_columns": null,
            "grid_auto_flow": null,
            "grid_auto_rows": null,
            "grid_column": null,
            "grid_gap": null,
            "grid_row": null,
            "grid_template_areas": null,
            "grid_template_columns": null,
            "grid_template_rows": null,
            "height": null,
            "justify_content": null,
            "justify_items": null,
            "left": null,
            "margin": null,
            "max_height": null,
            "max_width": null,
            "min_height": null,
            "min_width": null,
            "object_fit": null,
            "object_position": null,
            "order": null,
            "overflow": null,
            "overflow_x": null,
            "overflow_y": null,
            "padding": null,
            "right": null,
            "top": null,
            "visibility": null,
            "width": null
          }
        },
        "f9c3af5f1add45bda8aeae74a3d1c2a1": {
          "model_module": "@jupyter-widgets/controls",
          "model_name": "DescriptionStyleModel",
          "model_module_version": "1.5.0",
          "state": {
            "_model_module": "@jupyter-widgets/controls",
            "_model_module_version": "1.5.0",
            "_model_name": "DescriptionStyleModel",
            "_view_count": null,
            "_view_module": "@jupyter-widgets/base",
            "_view_module_version": "1.2.0",
            "_view_name": "StyleView",
            "description_width": ""
          }
        },
        "cd2cf1ab7d98469e94b93c22dda9e457": {
          "model_module": "@jupyter-widgets/base",
          "model_name": "LayoutModel",
          "model_module_version": "1.2.0",
          "state": {
            "_model_module": "@jupyter-widgets/base",
            "_model_module_version": "1.2.0",
            "_model_name": "LayoutModel",
            "_view_count": null,
            "_view_module": "@jupyter-widgets/base",
            "_view_module_version": "1.2.0",
            "_view_name": "LayoutView",
            "align_content": null,
            "align_items": null,
            "align_self": null,
            "border": null,
            "bottom": null,
            "display": null,
            "flex": null,
            "flex_flow": null,
            "grid_area": null,
            "grid_auto_columns": null,
            "grid_auto_flow": null,
            "grid_auto_rows": null,
            "grid_column": null,
            "grid_gap": null,
            "grid_row": null,
            "grid_template_areas": null,
            "grid_template_columns": null,
            "grid_template_rows": null,
            "height": null,
            "justify_content": null,
            "justify_items": null,
            "left": null,
            "margin": null,
            "max_height": null,
            "max_width": null,
            "min_height": null,
            "min_width": null,
            "object_fit": null,
            "object_position": null,
            "order": null,
            "overflow": null,
            "overflow_x": null,
            "overflow_y": null,
            "padding": null,
            "right": null,
            "top": null,
            "visibility": null,
            "width": null
          }
        },
        "72faa8a7568d459db30151d7488c6227": {
          "model_module": "@jupyter-widgets/controls",
          "model_name": "ProgressStyleModel",
          "model_module_version": "1.5.0",
          "state": {
            "_model_module": "@jupyter-widgets/controls",
            "_model_module_version": "1.5.0",
            "_model_name": "ProgressStyleModel",
            "_view_count": null,
            "_view_module": "@jupyter-widgets/base",
            "_view_module_version": "1.2.0",
            "_view_name": "StyleView",
            "bar_color": null,
            "description_width": ""
          }
        },
        "770f9af8ad464b1e914081e6b5383946": {
          "model_module": "@jupyter-widgets/base",
          "model_name": "LayoutModel",
          "model_module_version": "1.2.0",
          "state": {
            "_model_module": "@jupyter-widgets/base",
            "_model_module_version": "1.2.0",
            "_model_name": "LayoutModel",
            "_view_count": null,
            "_view_module": "@jupyter-widgets/base",
            "_view_module_version": "1.2.0",
            "_view_name": "LayoutView",
            "align_content": null,
            "align_items": null,
            "align_self": null,
            "border": null,
            "bottom": null,
            "display": null,
            "flex": null,
            "flex_flow": null,
            "grid_area": null,
            "grid_auto_columns": null,
            "grid_auto_flow": null,
            "grid_auto_rows": null,
            "grid_column": null,
            "grid_gap": null,
            "grid_row": null,
            "grid_template_areas": null,
            "grid_template_columns": null,
            "grid_template_rows": null,
            "height": null,
            "justify_content": null,
            "justify_items": null,
            "left": null,
            "margin": null,
            "max_height": null,
            "max_width": null,
            "min_height": null,
            "min_width": null,
            "object_fit": null,
            "object_position": null,
            "order": null,
            "overflow": null,
            "overflow_x": null,
            "overflow_y": null,
            "padding": null,
            "right": null,
            "top": null,
            "visibility": null,
            "width": null
          }
        },
        "97c6f40d9f874118be5d552afbaaab1e": {
          "model_module": "@jupyter-widgets/controls",
          "model_name": "DescriptionStyleModel",
          "model_module_version": "1.5.0",
          "state": {
            "_model_module": "@jupyter-widgets/controls",
            "_model_module_version": "1.5.0",
            "_model_name": "DescriptionStyleModel",
            "_view_count": null,
            "_view_module": "@jupyter-widgets/base",
            "_view_module_version": "1.2.0",
            "_view_name": "StyleView",
            "description_width": ""
          }
        }
      }
    }
  },
  "cells": [
    {
      "cell_type": "code",
      "source": [
        "!pip install datasets"
      ],
      "metadata": {
        "id": "YHmASxz6rQPr"
      },
      "execution_count": null,
      "outputs": []
    },
    {
      "cell_type": "code",
      "source": [
        "import utils\n",
        "from utils import parse_xmi, replace_ner_tags_with_integers, assign_ner_tags, format_dataset, tokenize_and_align_labels, tokenizer\n",
        "from lxml import etree\n",
        "from datasets import Dataset, load_from_disk, concatenate_datasets"
      ],
      "metadata": {
        "id": "_LB1AZxO5Vre"
      },
      "execution_count": 4,
      "outputs": []
    },
    {
      "cell_type": "code",
      "source": [
        "# Load an XMI file and parse\n",
        "file_path = '/content/drive/MyDrive/Colab Notebooks/underwriteme-data/data/Lashaun800_Runte676_0c4a29fe-bc92-ee21-4fec-b88c8474f9c2.xmi'\n",
        "\n",
        "tree = etree.parse(file_path)\n",
        "root = tree.getroot()\n",
        "\n",
        "# Extract namespaces directly from the parsed XMI\n",
        "namespaces = {key: value for key, value in root.nsmap.items() if key}"
      ],
      "metadata": {
        "id": "HGFyyXudfocR"
      },
      "execution_count": 12,
      "outputs": []
    },
    {
      "cell_type": "code",
      "source": [
        "# Extract the sample document text\n",
        "sofa_string = root.find('.//cas:Sofa', namespaces).get('sofaString')\n",
        "print(sofa_string[0:900])"
      ],
      "metadata": {
        "id": "k95fle625bye",
        "colab": {
          "base_uri": "https://localhost:8080/"
        },
        "outputId": "be915956-8615-450b-e8d1-4d9156ae1558"
      },
      "execution_count": 21,
      "outputs": [
        {
          "output_type": "stream",
          "name": "stdout",
          "text": [
            "Medical Attendants Report\n",
            "__________________\n",
            "_______________________________\n",
            "_________\n",
            "Patient Details\n",
            "Name:                    LashaunRunte\n",
            "Sex:                     F\n",
            "NHS Number:              7016321016\n",
            "Date of Birth:           03-Nov-2015\n",
            "Address:                 839HaleyPromenadeApt25\n",
            "                         EastBrookfield\n",
            "                         WorcesterCounty\n",
            "                         Massachusetts\n",
            "                         01515\n",
            "GP registration date:    03-Nov-2015\n",
            "Date records commencing: 03-Nov-2015\n",
            "__________________\n",
            "_______________________________\n",
            "_________\n",
            "__________________\n",
            "_______________________________\n",
            "_________\n",
            "Problems (Active)\n",
            "\tDate\tDescription\tValue / Units\tRange\tAssociated Text\n",
            "\t03-Nov-2015\tChestpain\n",
            "\t03-Nov-2015\tChest-Pain\n",
            "\t03-Nov-2015\tChest Pain\n",
            "\t03-Nov-2015\tEssential hypertension\n",
            "\t03-Nov-2015\tECG: sinus rhythm\n",
            "\t03-Nov-2015\tECG SR\n",
            "\t03-Nov-2015\tECG sinus rhythm\n",
            "\t03-\n"
          ]
        }
      ]
    },
    {
      "cell_type": "code",
      "source": [
        "# Extract entity types from a document.\n",
        "'''entity_list = []\n",
        "for sentence in sentences:\n",
        "    sentence_text = sofa_string[int(sentence.get('begin')):int(sentence.get('end'))]\n",
        "    #print(f\"Sentence: {sentence_text}\")\n",
        "\n",
        "    # Find annotations within this sentence\n",
        "    for annotation in root.findall('.//custom:TextMiningAnnotation', namespaces):\n",
        "        ann_begin = int(annotation.get('begin'))\n",
        "        ann_end = int(annotation.get('end'))\n",
        "        #annotation_text = sofa_string[int(annotation.get('begin')):int(annotation.get('end'))]\n",
        "        #print(f\"Annotation: {annotation_text}\")\n",
        "        #print((annotation.get('EntityType')))\n",
        "\n",
        "        # Check if the annotation is within the current sentence\n",
        "        if ann_begin >= int(sentence.get('begin')) and ann_end <= int(sentence.get('end')):\n",
        "            entity_text = sofa_string[ann_begin:ann_end]\n",
        "            entity_type = annotation.get('EntityType')\n",
        "            entity_list.append(entity_type)\n",
        "            #print(f\"  Entity: {entity_text}, Type: {entity_type}\")\n",
        "\n",
        "unique_entity_list = list(set(entity_list))\n",
        "print(unique_entity_list)'''"
      ],
      "metadata": {
        "id": "O1hBUTcT5RIL",
        "colab": {
          "base_uri": "https://localhost:8080/"
        },
        "outputId": "c5c55b5a-b7f3-4acc-cb28-3e9908ced7d5"
      },
      "execution_count": 8,
      "outputs": [
        {
          "output_type": "execute_result",
          "data": {
            "text/plain": [
              "['HealthcareProvider',\n",
              " 'Date',\n",
              " 'Drug',\n",
              " 'Sign',\n",
              " 'Symptom',\n",
              " 'Investigation',\n",
              " 'LabResult',\n",
              " 'Behaviour',\n",
              " 'LabTest',\n",
              " 'Treatment',\n",
              " 'Unit',\n",
              " 'Condition']"
            ]
          },
          "metadata": {},
          "execution_count": 8
        }
      ]
    },
    {
      "cell_type": "code",
      "source": [
        "# Hard coded entity list to save processing time\n",
        "'''unique_entity_list = ['Investigation',\n",
        " 'Treatment',\n",
        " 'LabTest',\n",
        " 'Condition',\n",
        " 'Behaviour',\n",
        " 'Date',\n",
        " 'Unit',\n",
        " 'Sign',\n",
        " 'Symptom',\n",
        " 'Drug',\n",
        " 'LabResult',\n",
        " 'HealthcareProvider']'''"
      ],
      "metadata": {
        "id": "EWByz3E38HXd"
      },
      "execution_count": 4,
      "outputs": []
    },
    {
      "cell_type": "code",
      "source": [
        "# Parse sentences, tokens, entities from a XMI file\n",
        "sentences, tokens, entities = parse_xmi(file_path)\n",
        "# Update tokens with their NER tags\n",
        "tokens = assign_ner_tags(tokens, entities)\n",
        "# Create the dataset\n",
        "dataset = format_dataset(sentences, tokens)\n",
        "# Apply the function to the entire dataset\n",
        "dataset = [replace_ner_tags_with_integers(item) for item in dataset]"
      ],
      "metadata": {
        "id": "6PufXNAV5FK2"
      },
      "execution_count": 27,
      "outputs": []
    },
    {
      "cell_type": "code",
      "source": [
        "# Check tokenized input ids, tokenised tokens\n",
        "example_text = dataset[165]\n",
        "print(example_text)\n",
        "\n",
        "tokenized_input = tokenizer(example_text[\"tokens\"], is_split_into_words=True)\n",
        "print(tokenized_input)\n",
        "\n",
        "tokens = tokenizer.convert_ids_to_tokens(tokenized_input[\"input_ids\"])\n",
        "print(tokens)\n",
        "\n",
        "word_ids = tokenized_input.word_ids()\n",
        "print(word_ids)"
      ],
      "metadata": {
        "colab": {
          "base_uri": "https://localhost:8080/"
        },
        "id": "QG7zTXrSZwUX",
        "outputId": "73de3cba-d845-4886-f5f1-33114600c8fc"
      },
      "execution_count": 29,
      "outputs": [
        {
          "output_type": "stream",
          "name": "stdout",
          "text": [
            "{'id': '5832', 'tokens': ['08-Dec-2015', ' - ', 'Dr. Debra128 Predovic534', ' , ', 'WEST BROOKFIELD FAMILY PRACTICE', ' @ ', '46 NORTH MAIN ST'], 'ner_tags': [9, 0, 0, 0, 0, 0, 0]}\n",
            "{'input_ids': [101, 4775, 118, 13063, 118, 1410, 118, 1987, 119, 3177, 6766, 11964, 1604, 11689, 2572, 15901, 24239, 1527, 117, 160, 9919, 1942, 26660, 2346, 22027, 17675, 21678, 2137, 6820, 14038, 2162, 3663, 11629, 8101, 21669, 10954, 137, 3993, 24819, 10460, 3048, 9960, 11607, 23676, 102], 'attention_mask': [1, 1, 1, 1, 1, 1, 1, 1, 1, 1, 1, 1, 1, 1, 1, 1, 1, 1, 1, 1, 1, 1, 1, 1, 1, 1, 1, 1, 1, 1, 1, 1, 1, 1, 1, 1, 1, 1, 1, 1, 1, 1, 1, 1, 1]}\n",
            "['[CLS]', '08', '-', 'Dec', '-', '2015', '-', 'Dr', '.', 'De', '##bra', '##12', '##8', 'Pre', '##do', '##vic', '##53', '##4', ',', 'W', '##ES', '##T', 'BR', '##O', '##OK', '##FI', '##EL', '##D', 'FA', '##MI', '##L', '##Y', 'PR', '##AC', '##TI', '##CE', '@', '46', 'NO', '##RT', '##H', 'MA', '##IN', 'ST', '[SEP]']\n",
            "[None, 0, 0, 0, 0, 0, 1, 2, 2, 2, 2, 2, 2, 2, 2, 2, 2, 2, 3, 4, 4, 4, 4, 4, 4, 4, 4, 4, 4, 4, 4, 4, 4, 4, 4, 4, 5, 6, 6, 6, 6, 6, 6, 6, None]\n"
          ]
        }
      ]
    },
    {
      "cell_type": "code",
      "source": [
        "# Sub-Token - The input ids returned by the tokenizer are longer than the lists of labels our dataset contain.\n",
        "len(example_text['ner_tags']), len(tokenized_input[\"input_ids\"])"
      ],
      "metadata": {
        "colab": {
          "base_uri": "https://localhost:8080/"
        },
        "id": "FpqMwT15ZwYQ",
        "outputId": "bc107fdc-94db-4e03-b339-67b58d88cc36"
      },
      "execution_count": 30,
      "outputs": [
        {
          "output_type": "execute_result",
          "data": {
            "text/plain": [
              "(7, 45)"
            ]
          },
          "metadata": {},
          "execution_count": 30
        }
      ]
    },
    {
      "cell_type": "code",
      "source": [
        "# Adjusted function call for a single example\n",
        "single_example = {\n",
        "    'tokens': [dataset[165]['tokens']],  # Wrap in another list\n",
        "    'ner_tags': [dataset[165]['ner_tags']]  # Wrap in another list\n",
        "}\n",
        "q = tokenize_and_align_labels(single_example, tokenizer)\n",
        "print(q)\n",
        "len(q['labels'][0]), len(q[\"input_ids\"][0])\n",
        "\n",
        "# after applying tokenize_and_align_labels() we have 'labels' key"
      ],
      "metadata": {
        "colab": {
          "base_uri": "https://localhost:8080/"
        },
        "id": "wBdmVGxd3pAX",
        "outputId": "f1a36e57-6f0e-4d37-8114-0304a2d0d040"
      },
      "execution_count": 31,
      "outputs": [
        {
          "output_type": "stream",
          "name": "stdout",
          "text": [
            "{'input_ids': [[101, 4775, 118, 13063, 118, 1410, 118, 1987, 119, 3177, 6766, 11964, 1604, 11689, 2572, 15901, 24239, 1527, 117, 160, 9919, 1942, 26660, 2346, 22027, 17675, 21678, 2137, 6820, 14038, 2162, 3663, 11629, 8101, 21669, 10954, 137, 3993, 24819, 10460, 3048, 9960, 11607, 23676, 102]], 'attention_mask': [[1, 1, 1, 1, 1, 1, 1, 1, 1, 1, 1, 1, 1, 1, 1, 1, 1, 1, 1, 1, 1, 1, 1, 1, 1, 1, 1, 1, 1, 1, 1, 1, 1, 1, 1, 1, 1, 1, 1, 1, 1, 1, 1, 1, 1]], 'labels': [[-100, 9, 10, 10, 10, 10, 0, 0, 0, 0, 0, 0, 0, 0, 0, 0, 0, 0, 0, 0, 0, 0, 0, 0, 0, 0, 0, 0, 0, 0, 0, 0, 0, 0, 0, 0, 0, 0, 0, 0, 0, 0, 0, 0, -100]]}\n"
          ]
        },
        {
          "output_type": "execute_result",
          "data": {
            "text/plain": [
              "(45, 45)"
            ]
          },
          "metadata": {},
          "execution_count": 31
        }
      ]
    },
    {
      "cell_type": "code",
      "source": [
        "# Applying alignment operation on entire data\n",
        "for token, label in zip(tokenizer.convert_ids_to_tokens(q[\"input_ids\"][0]),q[\"labels\"][0]):\n",
        "    print(f\"{token:_<30} {label}\")"
      ],
      "metadata": {
        "colab": {
          "base_uri": "https://localhost:8080/"
        },
        "id": "Y9Ufs0Ou5Yqy",
        "outputId": "df7cb4a0-a26a-481f-d03c-457f1707f807"
      },
      "execution_count": 32,
      "outputs": [
        {
          "output_type": "stream",
          "name": "stdout",
          "text": [
            "[CLS]_________________________ -100\n",
            "08____________________________ 9\n",
            "-_____________________________ 10\n",
            "Dec___________________________ 10\n",
            "-_____________________________ 10\n",
            "2015__________________________ 10\n",
            "-_____________________________ 0\n",
            "Dr____________________________ 0\n",
            "._____________________________ 0\n",
            "De____________________________ 0\n",
            "##bra_________________________ 0\n",
            "##12__________________________ 0\n",
            "##8___________________________ 0\n",
            "Pre___________________________ 0\n",
            "##do__________________________ 0\n",
            "##vic_________________________ 0\n",
            "##53__________________________ 0\n",
            "##4___________________________ 0\n",
            ",_____________________________ 0\n",
            "W_____________________________ 0\n",
            "##ES__________________________ 0\n",
            "##T___________________________ 0\n",
            "BR____________________________ 0\n",
            "##O___________________________ 0\n",
            "##OK__________________________ 0\n",
            "##FI__________________________ 0\n",
            "##EL__________________________ 0\n",
            "##D___________________________ 0\n",
            "FA____________________________ 0\n",
            "##MI__________________________ 0\n",
            "##L___________________________ 0\n",
            "##Y___________________________ 0\n",
            "PR____________________________ 0\n",
            "##AC__________________________ 0\n",
            "##TI__________________________ 0\n",
            "##CE__________________________ 0\n",
            "@_____________________________ 0\n",
            "46____________________________ 0\n",
            "NO____________________________ 0\n",
            "##RT__________________________ 0\n",
            "##H___________________________ 0\n",
            "MA____________________________ 0\n",
            "##IN__________________________ 0\n",
            "ST____________________________ 0\n",
            "[SEP]_________________________ -100\n"
          ]
        }
      ]
    },
    {
      "cell_type": "code",
      "source": [
        "# Convert list of dictionaries to dictionary of lists\n",
        "dataset_dict = {key: [dic[key] for dic in dataset] for key in dataset[0]}\n",
        "\n",
        "# Now convert this dictionary of lists into a Hugging Face Dataset format\n",
        "hf_dataset = Dataset.from_dict(dataset_dict)\n",
        "\n",
        "# Check the example item\n",
        "print(hf_dataset[165])\n",
        "\n",
        "# Apply the tokenize_and_align_labels function using map\n",
        "tokenized_dataset = hf_dataset.map(tokenize_and_align_labels, batched=True)\n",
        "print(tokenized_dataset[165])\n",
        "print(tokenized_dataset)"
      ],
      "metadata": {
        "colab": {
          "base_uri": "https://localhost:8080/",
          "height": 171,
          "referenced_widgets": [
            "3c32936d5f5c4a9c9c367b99d342c0ed",
            "9242e30663514bad9001605a7a17717d",
            "0754c016f61e436699b6ab5ed325f0d1",
            "2d3d47ffc000494ca5feec5cd2a9aa51",
            "fd67c1a2be3f4c86b9ea84f2cf3bb915",
            "02475d36f31049389d58218bc19aa2d7",
            "f9c3af5f1add45bda8aeae74a3d1c2a1",
            "cd2cf1ab7d98469e94b93c22dda9e457",
            "72faa8a7568d459db30151d7488c6227",
            "770f9af8ad464b1e914081e6b5383946",
            "97c6f40d9f874118be5d552afbaaab1e"
          ]
        },
        "id": "9_dL7bHT6oPT",
        "outputId": "fe19629c-1c07-4496-da14-4269e4fe970c"
      },
      "execution_count": 36,
      "outputs": [
        {
          "output_type": "stream",
          "name": "stdout",
          "text": [
            "{'id': '5832', 'tokens': ['08-Dec-2015', ' - ', 'Dr. Debra128 Predovic534', ' , ', 'WEST BROOKFIELD FAMILY PRACTICE', ' @ ', '46 NORTH MAIN ST'], 'ner_tags': [9, 0, 0, 0, 0, 0, 0]}\n"
          ]
        },
        {
          "output_type": "display_data",
          "data": {
            "text/plain": [
              "Map:   0%|          | 0/6223 [00:00<?, ? examples/s]"
            ],
            "application/vnd.jupyter.widget-view+json": {
              "version_major": 2,
              "version_minor": 0,
              "model_id": "3c32936d5f5c4a9c9c367b99d342c0ed"
            }
          },
          "metadata": {}
        },
        {
          "output_type": "stream",
          "name": "stdout",
          "text": [
            "{'id': '5832', 'tokens': ['08-Dec-2015', ' - ', 'Dr. Debra128 Predovic534', ' , ', 'WEST BROOKFIELD FAMILY PRACTICE', ' @ ', '46 NORTH MAIN ST'], 'ner_tags': [9, 0, 0, 0, 0, 0, 0], 'input_ids': [101, 4775, 118, 13063, 118, 1410, 118, 1987, 119, 3177, 6766, 11964, 1604, 11689, 2572, 15901, 24239, 1527, 117, 160, 9919, 1942, 26660, 2346, 22027, 17675, 21678, 2137, 6820, 14038, 2162, 3663, 11629, 8101, 21669, 10954, 137, 3993, 24819, 10460, 3048, 9960, 11607, 23676, 102], 'attention_mask': [1, 1, 1, 1, 1, 1, 1, 1, 1, 1, 1, 1, 1, 1, 1, 1, 1, 1, 1, 1, 1, 1, 1, 1, 1, 1, 1, 1, 1, 1, 1, 1, 1, 1, 1, 1, 1, 1, 1, 1, 1, 1, 1, 1, 1], 'labels': [-100, 9, 10, 10, 10, 10, 0, 0, 0, 0, 0, 0, 0, 0, 0, 0, 0, 0, 0, 0, 0, 0, 0, 0, 0, 0, 0, 0, 0, 0, 0, 0, 0, 0, 0, 0, 0, 0, 0, 0, 0, 0, 0, 0, -100]}\n",
            "Dataset({\n",
            "    features: ['id', 'tokens', 'ner_tags', 'input_ids', 'attention_mask', 'labels'],\n",
            "    num_rows: 6223\n",
            "})\n"
          ]
        }
      ]
    },
    {
      "cell_type": "code",
      "source": [
        "# Save tokenized dataset obtained from a single file to disk\n",
        "tokenized_dataset.save_to_disk('/content/train_dataset_part4')"
      ],
      "metadata": {
        "colab": {
          "base_uri": "https://localhost:8080/",
          "height": 49,
          "referenced_widgets": [
            "a35437028a0742e19b5d5fce1c6dfa20",
            "ba23b71797a642f0aa2d24d28baf9ad5",
            "32bbf1b8d0174db180c2b4da68404ad3",
            "ab6a124cf93e49b482597cf50a8deb07",
            "494ef7d30842457089f01c21944e5849",
            "8177a8010bdd439da36899be776db814",
            "ee12647acdf24de096199bca5f95bfe6",
            "25ad752bf2e5411fbfc93bfa1a53220a",
            "804e71339afe4289bc05fb95b37ed949",
            "1068c78e1e364354973eae044cf1113f",
            "274aea0f520744eeae6406f7e91442a1"
          ]
        },
        "id": "A4v00dfczdbM",
        "outputId": "34bf6751-f018-4f18-ed9a-657563b030c5"
      },
      "execution_count": null,
      "outputs": [
        {
          "output_type": "display_data",
          "data": {
            "text/plain": [
              "Saving the dataset (0/1 shards):   0%|          | 0/6223 [00:00<?, ? examples/s]"
            ],
            "application/vnd.jupyter.widget-view+json": {
              "version_major": 2,
              "version_minor": 0,
              "model_id": "a35437028a0742e19b5d5fce1c6dfa20"
            }
          },
          "metadata": {}
        }
      ]
    },
    {
      "cell_type": "code",
      "source": [
        "# Reload the dataset from the directory\n",
        "reloaded_dataset4 = load_from_disk('/content/train_dataset_part4')\n",
        "\n",
        "# Concatenate datasets (Sentence ids should be unique!)\n",
        "#combined_train_dataset = concatenate_datasets([reloaded_dataset1, reloaded_dataset2, reloaded_dataset3, reloaded_dataset4])\n",
        "\n",
        "# Save combined dataset to disk\n",
        "#combined_train_dataset.save_to_disk('/content/combined_train_dataset')"
      ],
      "metadata": {
        "id": "yfLP6eMJzvAJ"
      },
      "execution_count": null,
      "outputs": []
    }
  ]
}